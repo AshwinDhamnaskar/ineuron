{
 "cells": [
  {
   "cell_type": "code",
   "execution_count": null,
   "id": "0a45c06b",
   "metadata": {},
   "outputs": [],
   "source": [
    "1. To what does a relative path refer?"
   ]
  },
  {
   "cell_type": "code",
   "execution_count": null,
   "id": "5b5bd885",
   "metadata": {},
   "outputs": [],
   "source": [
    "Ans:The relative path is the path to some file with respect to your current working directory"
   ]
  },
  {
   "cell_type": "code",
   "execution_count": null,
   "id": "e4ca3886",
   "metadata": {},
   "outputs": [],
   "source": [
    "2.Where does an absolute path start with your Operating System ?"
   ]
  },
  {
   "cell_type": "code",
   "execution_count": null,
   "id": "add14d7a",
   "metadata": {},
   "outputs": [],
   "source": [
    "Ans: Windows based Operating systems absolute path starts with C:"
   ]
  },
  {
   "cell_type": "code",
   "execution_count": null,
   "id": "33dcde0f",
   "metadata": {},
   "outputs": [],
   "source": [
    "3.What does the functions os.getcwd() and os.chdir() do ?"
   ]
  },
  {
   "cell_type": "code",
   "execution_count": null,
   "id": "06cc5b99",
   "metadata": {},
   "outputs": [],
   "source": [
    "Ans: os.getcwd() method tells us the location of current working directory \n",
    "    os.chdir() method in Python used to change the current working directory to specified path"
   ]
  },
  {
   "cell_type": "code",
   "execution_count": null,
   "id": "943c5c1d",
   "metadata": {},
   "outputs": [],
   "source": [
    "4.What are . and .. folders ?"
   ]
  },
  {
   "cell_type": "code",
   "execution_count": null,
   "id": "d40af26b",
   "metadata": {},
   "outputs": [],
   "source": [
    "Ans: . Represents the Current Directory \n",
    "     .. Represents the Parent Directory of the Current Directory"
   ]
  },
  {
   "cell_type": "code",
   "execution_count": null,
   "id": "c6733a7a",
   "metadata": {},
   "outputs": [],
   "source": [
    "5.In C:\\bacon\\eggs\\spam.txt which part is the dir name and which part is the base name ?"
   ]
  },
  {
   "cell_type": "code",
   "execution_count": null,
   "id": "5baab809",
   "metadata": {},
   "outputs": [],
   "source": [
    "Ans:\n",
    "C:\\bacon\\eggs\\spam.txt\n",
    "The Directory name is C:\\\\bacon\\\\eggs\n",
    "The Base name is spam.txt"
   ]
  },
  {
   "cell_type": "code",
   "execution_count": null,
   "id": "8e410c8c",
   "metadata": {},
   "outputs": [],
   "source": [
    "6.What are the three mode arguments that can be passed to the open() function ?"
   ]
  },
  {
   "cell_type": "code",
   "execution_count": null,
   "id": "604a29cc",
   "metadata": {},
   "outputs": [],
   "source": [
    "Ans\n",
    "open(filename, mode)\n",
    "‘r’ – Read Mode: This is the default mode for open(). The file is opened and a pointer is positioned at the beginning of the file’s content.\n",
    "‘w’ – Write Mode: Using this mode will overwrite any existing content in a file. If the given file does not exist, a new one will be created.\n",
    "‘r+’ – Read/Write Mode: Use this mode if you need to simultaneously read and write to a file.\n",
    "‘a’ – Append Mode: With this mode the user can append the data without overwriting any already existing data in the file.\n",
    "‘a+’ – Append and Read Mode: In this mode you can read and append the data without overwriting the original file.\n",
    "‘x’ – Exclusive Creating Mode: This mode is for the sole purpose of creating new files. Use this mode if you know the file to be written doesn’t exist beforehand."
   ]
  },
  {
   "cell_type": "code",
   "execution_count": null,
   "id": "3ee097b8",
   "metadata": {},
   "outputs": [],
   "source": [
    "7.What happens if an existing file is opened in write mode ?"
   ]
  },
  {
   "cell_type": "code",
   "execution_count": null,
   "id": "13de3700",
   "metadata": {},
   "outputs": [],
   "source": [
    "Ans: Using this mode, we can overwrite any existing content in a file. If the given file does not exist then a new one will be created."
   ]
  },
  {
   "cell_type": "code",
   "execution_count": null,
   "id": "7c681e16",
   "metadata": {},
   "outputs": [],
   "source": [
    "8.How do you tell the difference between read() and readlines() ?"
   ]
  },
  {
   "cell_type": "code",
   "execution_count": null,
   "id": "7a52b60a",
   "metadata": {},
   "outputs": [],
   "source": [
    "\n",
    "Ans:\n",
    "read() will read the whole file at once and then print out the first characters that take up as many bytes as we specify in the parenthesis\n",
    "whereas the readline() that will read and print out only the first characters that take up as many bytes as we specify in the parenthesis. We may want to use readline() when we are reading files that are too big for our RAM."
   ]
  },
  {
   "cell_type": "code",
   "execution_count": null,
   "id": "b77b5f07",
   "metadata": {},
   "outputs": [],
   "source": [
    "9.What data structure does a shelf value resemble ?"
   ]
  },
  {
   "cell_type": "code",
   "execution_count": null,
   "id": "f4ebb30d",
   "metadata": {},
   "outputs": [],
   "source": [
    "Ans: shelf value resembles a dictionary value"
   ]
  }
 ],
 "metadata": {
  "kernelspec": {
   "display_name": "Python 3 (ipykernel)",
   "language": "python",
   "name": "python3"
  },
  "language_info": {
   "codemirror_mode": {
    "name": "ipython",
    "version": 3
   },
   "file_extension": ".py",
   "mimetype": "text/x-python",
   "name": "python",
   "nbconvert_exporter": "python",
   "pygments_lexer": "ipython3",
   "version": "3.9.12"
  }
 },
 "nbformat": 4,
 "nbformat_minor": 5
}
